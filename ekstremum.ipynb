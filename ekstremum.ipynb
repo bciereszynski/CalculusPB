{
 "cells": [
  {
   "cell_type": "code",
   "execution_count": 1,
   "metadata": {},
   "outputs": [],
   "source": [
    "from sympy import *\n",
    "import numpy as np\n",
    "from matplotlib import *\n",
    "init_printing()"
   ]
  },
  {
   "cell_type": "code",
   "execution_count": 7,
   "metadata": {},
   "outputs": [
    {
     "data": {
      "image/png": "[encoded data removed]",
      "text/latex": [
       "$\\displaystyle x^{2} - x y - x + 2 y^{2} + 4 y - 5$"
      ],
      "text/plain": [
       " 2                2          \n",
       "x  - x⋅y - x + 2⋅y  + 4⋅y - 5"
      ]
     },
     "execution_count": 7,
     "metadata": {},
     "output_type": "execute_result"
    }
   ],
   "source": [
    "x, y = symbols('x y')\n",
    "expr = x**2  - x*y + 2*y**2 - x + 4*y -5\n",
    "expr"
   ]
  },
  {
   "cell_type": "code",
   "execution_count": 8,
   "metadata": {},
   "outputs": [
    {
     "data": {
      "image/png": "[encoded data removed]",
      "text/latex": [
       "$\\displaystyle 2 x - y - 1$"
      ],
      "text/plain": [
       "2⋅x - y - 1"
      ]
     },
     "execution_count": 8,
     "metadata": {},
     "output_type": "execute_result"
    }
   ],
   "source": [
    "diffx = diff(expr, x)\n",
    "diffx"
   ]
  },
  {
   "cell_type": "code",
   "execution_count": 9,
   "metadata": {},
   "outputs": [
    {
     "data": {
      "image/png": "[encoded data removed]",
      "text/latex": [
       "$\\displaystyle - x + 4 y + 4$"
      ],
      "text/plain": [
       "-x + 4⋅y + 4"
      ]
     },
     "execution_count": 9,
     "metadata": {},
     "output_type": "execute_result"
    }
   ],
   "source": [
    "diffy = diff(expr, y)\n",
    "diffy"
   ]
  },
  {
   "cell_type": "code",
   "execution_count": 42,
   "metadata": {},
   "outputs": [
    {
     "data": {
      "image/png": "[encoded data removed]",
      "text/latex": [
       "$\\displaystyle \\left\\{ x : 0, \\  y : -1\\right\\}$"
      ],
      "text/plain": [
       "{x: 0, y: -1}"
      ]
     },
     "execution_count": 42,
     "metadata": {},
     "output_type": "execute_result"
    }
   ],
   "source": [
    "sol = solve([diffx, diffy])\n",
    "sol"
   ]
  },
  {
   "cell_type": "code",
   "execution_count": 15,
   "metadata": {},
   "outputs": [
    {
     "data": {
      "image/png": "[encoded data removed]",
      "text/latex": [
       "$\\displaystyle 2$"
      ],
      "text/plain": [
       "2"
      ]
     },
     "execution_count": 15,
     "metadata": {},
     "output_type": "execute_result"
    }
   ],
   "source": [
    "det1 = diff(diffx, x)\n",
    "det1"
   ]
  },
  {
   "cell_type": "code",
   "execution_count": 28,
   "metadata": {},
   "outputs": [
    {
     "data": {
      "text/plain": [
       "array([[ 2, -1],\n",
       "       [-1,  4]])"
      ]
     },
     "execution_count": 28,
     "metadata": {},
     "output_type": "execute_result"
    }
   ],
   "source": [
    "det2 = np.array([[diff(diffx, x), diff(diffx, y)],\n",
    "                 [diff(diffy, x), diff(diffy, y)]], dtype=int)\n",
    "det2"
   ]
  },
  {
   "cell_type": "code",
   "execution_count": 27,
   "metadata": {},
   "outputs": [
    {
     "data": {
      "image/png": "[encoded data removed]",
      "text/latex": [
       "$\\displaystyle 7.0$"
      ],
      "text/plain": [
       "7.000000000000001"
      ]
     },
     "execution_count": 27,
     "metadata": {},
     "output_type": "execute_result"
    }
   ],
   "source": [
    "np.linalg.det(det2)"
   ]
  },
  {
   "cell_type": "code",
   "execution_count": 31,
   "metadata": {},
   "outputs": [
    {
     "data": {
      "image/png": "[encoded data removed]",
      "text/latex": [
       "$\\displaystyle -7$"
      ],
      "text/plain": [
       "-7"
      ]
     },
     "execution_count": 31,
     "metadata": {},
     "output_type": "execute_result"
    }
   ],
   "source": [
    "expr.subs(x, 0).subs(y,-1)"
   ]
  },
  {
   "cell_type": "markdown",
   "metadata": {},
   "source": [
    "det1 = 2 >0 and det2=7>0, zatem występuje MINIMUM LOKALNE , którego WARTOSC wynosi -7 "
   ]
  },
  {
   "cell_type": "markdown",
   "metadata": {},
   "source": [
    "d1 < 0 d2< 0 -> BRAK EKSTREMUM \\\n",
    "d1 > 0 d2>0 -> MINUMUM \\\n",
    "d1 <0 d2>0 -> MAKSIMUM"
   ]
  },
  {
   "cell_type": "code",
   "execution_count": 1,
   "metadata": {},
   "outputs": [
    {
     "data": {
      "image/png": "[encoded data removed]",
      "text/latex": [
       "$\\displaystyle -300.0$"
      ],
      "text/plain": [
       "-299.99999999999994"
      ]
     },
     "execution_count": 1,
     "metadata": {},
     "output_type": "execute_result"
    }
   ],
   "source": [
    "from sympy import *\n",
    "import numpy as np\n",
    "from matplotlib import *\n",
    "init_printing()\n",
    "x, y = symbols('x y')\n",
    "expr = 25*x-25*x*exp(-y)-50*y-x**2\n",
    "expr\n",
    "diffx = diff(expr, x)\n",
    "diffx\n",
    "diffy = diff(expr, y)\n",
    "diffy\n",
    "sol = solve([diffx, diffy])\n",
    "sol\n",
    "det1 = diff(diffx, x)\n",
    "det1\n",
    "det2 = np.array([[diff(diffx, x), diff(diffx, y)],\n",
    "                 [diff(diffy, x), diff(diffy, y)]])\n",
    "det2\n",
    "detP1 = np.array([[col.subs(x,sol[1].get(x)).subs(y, sol[1].get(y)) for col in row] for row in det2], dtype = int)\n",
    "detP1\n",
    "np.linalg.det(detP1)\n",
    "expr.subs(x, sol[1].get(x)).subs(y,sol[1].get(y))\n",
    "detP2 = np.array([[col.subs(x,sol[0].get(x)).subs(y, sol[0].get(y)) for col in row] for row in det2], dtype = int)\n",
    "np.linalg.det(detP2)"
   ]
  }
 ],
 "metadata": {
  "kernelspec": {
   "display_name": ".venv",
   "language": "python",
   "name": "python3"
  },
  "language_info": {
   "codemirror_mode": {
    "name": "ipython",
    "version": 3
   },
   "file_extension": ".py",
   "mimetype": "text/x-python",
   "name": "python",
   "nbconvert_exporter": "python",
   "pygments_lexer": "ipython3",
   "version": "3.12.2"
  }
 },
 "nbformat": 4,
 "nbformat_minor": 2
}
