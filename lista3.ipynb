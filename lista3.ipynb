{
 "cells": [
  {
   "cell_type": "markdown",
   "metadata": {},
   "source": [
    "# Lista 3\n",
    "Bartosz Piotr Ciereszyński \n",
    "Mateusz Maksimowicz"
   ]
  },
  {
   "cell_type": "code",
   "execution_count": 139,
   "metadata": {},
   "outputs": [],
   "source": [
    "from sympy import *\n",
    "import numpy as np\n",
    "from matplotlib import *\n",
    "init_printing()\n",
    "x, y, l, a = symbols('x y l a', real=true)"
   ]
  },
  {
   "cell_type": "markdown",
   "metadata": {},
   "source": [
    "zad 1"
   ]
  },
  {
   "cell_type": "markdown",
   "metadata": {},
   "source": [
    "sposób 1"
   ]
  },
  {
   "cell_type": "code",
   "execution_count": 107,
   "metadata": {},
   "outputs": [
    {
     "data": {
      "image/png": "[encoded data removed]",
      "text/latex": [
       "$\\displaystyle 6 - \\sqrt{3 x^{2} + 3 y^{2}}$"
      ],
      "text/plain": [
       "       _____________\n",
       "      ╱    2      2 \n",
       "6 - ╲╱  3⋅x  + 3⋅y  "
      ]
     },
     "execution_count": 107,
     "metadata": {},
     "output_type": "execute_result"
    }
   ],
   "source": [
    "\n",
    "expr = 6 - sqrt(3*x**2+3*y**2)\n",
    "expr\n"
   ]
  },
  {
   "cell_type": "code",
   "execution_count": 108,
   "metadata": {},
   "outputs": [
    {
     "data": {
      "image/png": "[encoded data removed]",
      "text/latex": [
       "$\\displaystyle - x + y - 1$"
      ],
      "text/plain": [
       "-x + y - 1"
      ]
     },
     "execution_count": 108,
     "metadata": {},
     "output_type": "execute_result"
    }
   ],
   "source": [
    "war = y-x-1\n",
    "war"
   ]
  },
  {
   "cell_type": "code",
   "execution_count": 109,
   "metadata": {},
   "outputs": [
    {
     "data": {
      "image/png": "[encoded data removed]",
      "text/latex": [
       "$\\displaystyle l \\left(- x + y - 1\\right) - \\sqrt{3 x^{2} + 3 y^{2}} + 6$"
      ],
      "text/plain": [
       "                    _____________    \n",
       "                   ╱    2      2     \n",
       "l⋅(-x + y - 1) - ╲╱  3⋅x  + 3⋅y   + 6"
      ]
     },
     "execution_count": 109,
     "metadata": {},
     "output_type": "execute_result"
    }
   ],
   "source": [
    "lag = expr + l*war\n",
    "lag"
   ]
  },
  {
   "cell_type": "code",
   "execution_count": 110,
   "metadata": {},
   "outputs": [
    {
     "data": {
      "image/png": "[encoded data removed]",
      "text/latex": [
       "$\\displaystyle - x + y - 1$"
      ],
      "text/plain": [
       "-x + y - 1"
      ]
     },
     "execution_count": 110,
     "metadata": {},
     "output_type": "execute_result"
    }
   ],
   "source": [
    "diffl = diff(lag, l)\n",
    "diffl"
   ]
  },
  {
   "cell_type": "code",
   "execution_count": 111,
   "metadata": {},
   "outputs": [
    {
     "data": {
      "image/png": "[encoded data removed]",
      "text/latex": [
       "$\\displaystyle - l - \\frac{3 x}{\\sqrt{3 x^{2} + 3 y^{2}}}$"
      ],
      "text/plain": [
       "           3⋅x       \n",
       "-l - ────────────────\n",
       "        _____________\n",
       "       ╱    2      2 \n",
       "     ╲╱  3⋅x  + 3⋅y  "
      ]
     },
     "execution_count": 111,
     "metadata": {},
     "output_type": "execute_result"
    }
   ],
   "source": [
    "diffx = diff(lag, x)\n",
    "diffx"
   ]
  },
  {
   "cell_type": "code",
   "execution_count": 112,
   "metadata": {},
   "outputs": [
    {
     "data": {
      "image/png": "[encoded data removed]",
      "text/latex": [
       "$\\displaystyle l - \\frac{3 y}{\\sqrt{3 x^{2} + 3 y^{2}}}$"
      ],
      "text/plain": [
       "          3⋅y       \n",
       "l - ────────────────\n",
       "       _____________\n",
       "      ╱    2      2 \n",
       "    ╲╱  3⋅x  + 3⋅y  "
      ]
     },
     "execution_count": 112,
     "metadata": {},
     "output_type": "execute_result"
    }
   ],
   "source": [
    "diffy = diff(lag, y)\n",
    "diffy"
   ]
  },
  {
   "cell_type": "code",
   "execution_count": 113,
   "metadata": {},
   "outputs": [
    {
     "data": {
      "image/png": "[encoded data removed]",
      "text/latex": [
       "$\\displaystyle \\left[ \\left\\{ l : \\frac{\\sqrt{6}}{2}, \\  x : - \\frac{1}{2}, \\  y : \\frac{1}{2}\\right\\}\\right]$"
      ],
      "text/plain": [
       "⎡⎧   √6                 ⎫⎤\n",
       "⎢⎨l: ──, x: -1/2, y: 1/2⎬⎥\n",
       "⎣⎩   2                  ⎭⎦"
      ]
     },
     "execution_count": 113,
     "metadata": {},
     "output_type": "execute_result"
    }
   ],
   "source": [
    "sol = solve([diffx,diffy,diffl])\n",
    "lval = sol[0].get(l)\n",
    "xval = sol[0].get(x)\n",
    "yval = sol[0].get(y)\n",
    "sol"
   ]
  },
  {
   "cell_type": "code",
   "execution_count": 114,
   "metadata": {},
   "outputs": [
    {
     "data": {
      "text/plain": [
       "array([[0, -1, 1],\n",
       "       [-1, 9*x**2/(3*x**2 + 3*y**2)**(3/2) - 3/sqrt(3*x**2 + 3*y**2),\n",
       "        9*x*y/(3*x**2 + 3*y**2)**(3/2)],\n",
       "       [1, 9*x*y/(3*x**2 + 3*y**2)**(3/2),\n",
       "        9*y**2/(3*x**2 + 3*y**2)**(3/2) - 3/sqrt(3*x**2 + 3*y**2)]],\n",
       "      dtype=object)"
      ]
     },
     "execution_count": 114,
     "metadata": {},
     "output_type": "execute_result"
    }
   ],
   "source": [
    "np.array([  [0, diff(war, x), diff(war,y)],\n",
    "            [diff(war,x), diff(diffx, x), diff(diffx, y)],\n",
    "            [diff(war,y), diff(diffy, x), diff(diffy, y)]])"
   ]
  },
  {
   "cell_type": "code",
   "execution_count": 115,
   "metadata": {},
   "outputs": [
    {
     "data": {
      "text/plain": [
       "array([[0, -1, 1],\n",
       "       [-1, -sqrt(6)/2, -sqrt(6)/2],\n",
       "       [1, -sqrt(6)/2, -sqrt(6)/2]], dtype=object)"
      ]
     },
     "execution_count": 115,
     "metadata": {},
     "output_type": "execute_result"
    }
   ],
   "source": [
    "hesjan = np.array([  [0, diff(war, x), diff(war,y)],\n",
    "            [diff(war,x), diff(diffx, x).subs(x, xval).subs(y,yval), diff(diffx, y).subs(x, xval).subs(y,yval)],\n",
    "            [diff(war,y), diff(diffy, x).subs(x, xval).subs(y,yval), diff(diffy, y).subs(x, xval).subs(y,yval)]])\n",
    "hesjan"
   ]
  },
  {
   "cell_type": "code",
   "execution_count": 116,
   "metadata": {},
   "outputs": [
    {
     "data": {
      "text/plain": [
       "array([[ 0.       , -1.       ,  1.       ],\n",
       "       [-1.       , -1.2247448, -1.2247448],\n",
       "       [ 1.       , -1.2247448, -1.2247448]])"
      ]
     },
     "execution_count": 116,
     "metadata": {},
     "output_type": "execute_result"
    }
   ],
   "source": [
    "hesjan = np.array([  [0, diff(war, x), diff(war,y)],\n",
    "            [diff(war,x), diff(diffx, x).subs(x, xval).subs(y,yval).evalf(5), diff(diffx, y).subs(x, xval).subs(y,yval).evalf(5)],\n",
    "            [diff(war,y), diff(diffy, x).subs(x, xval).subs(y,yval).evalf(5), diff(diffy, y).subs(x, xval).subs(y,yval).evalf(5)]], dtype=float)\n",
    "hesjan"
   ]
  },
  {
   "cell_type": "code",
   "execution_count": 117,
   "metadata": {},
   "outputs": [
    {
     "data": {
      "image/png": "[encoded data removed]",
      "text/latex": [
       "$\\displaystyle 4.899$"
      ],
      "text/plain": [
       "4.899"
      ]
     },
     "execution_count": 117,
     "metadata": {},
     "output_type": "execute_result"
    }
   ],
   "source": [
    "det2 = np.linalg.det(hesjan)\n",
    "round(det2,3)"
   ]
  },
  {
   "cell_type": "code",
   "execution_count": 118,
   "metadata": {},
   "outputs": [
    {
     "data": {
      "image/png": "[encoded data removed]",
      "text/latex": [
       "$\\displaystyle 6 - \\frac{\\sqrt{6}}{2}$"
      ],
      "text/plain": [
       "    √6\n",
       "6 - ──\n",
       "    2 "
      ]
     },
     "execution_count": 118,
     "metadata": {},
     "output_type": "execute_result"
    }
   ],
   "source": [
    "value = expr.subs(x, xval).subs(y,yval)\n",
    "value"
   ]
  },
  {
   "cell_type": "code",
   "execution_count": 119,
   "metadata": {},
   "outputs": [
    {
     "data": {
      "image/png": "[encoded data removed]",
      "text/latex": [
       "$\\displaystyle 4.7753$"
      ],
      "text/plain": [
       "4.7753"
      ]
     },
     "execution_count": 119,
     "metadata": {},
     "output_type": "execute_result"
    }
   ],
   "source": [
    "value.evalf(5)"
   ]
  },
  {
   "cell_type": "markdown",
   "metadata": {},
   "source": [
    "Wyznacznik det2 w punkcie (-1/2, 1/2) ma wartość większą od 0, zatem funkcja osiąga w tym punkie maksimum warunkowe, którego wartość wynosi 4.7753"
   ]
  },
  {
   "cell_type": "markdown",
   "metadata": {},
   "source": [
    "sposob 2"
   ]
  },
  {
   "cell_type": "code",
   "execution_count": 120,
   "metadata": {},
   "outputs": [
    {
     "data": {
      "image/png": "[encoded data removed]",
      "text/latex": [
       "$\\displaystyle - a - \\sqrt{3 x^{2} + 3 y^{2}} + 6$"
      ],
      "text/plain": [
       "        _____________    \n",
       "       ╱    2      2     \n",
       "-a - ╲╱  3⋅x  + 3⋅y   + 6"
      ]
     },
     "execution_count": 120,
     "metadata": {},
     "output_type": "execute_result"
    }
   ],
   "source": [
    "warstwica = expr - a\n",
    "warstwica"
   ]
  },
  {
   "cell_type": "code",
   "execution_count": 121,
   "metadata": {},
   "outputs": [
    {
     "data": {
      "image/png": "[encoded data removed]",
      "text/latex": [
       "$\\displaystyle - a^{2} + 6 x^{2} + 6 x - 12 \\sqrt{6 x^{2} + 6 x + 3} + 39$"
      ],
      "text/plain": [
       "                          ________________     \n",
       "   2      2              ╱    2                \n",
       "- a  + 6⋅x  + 6⋅x - 12⋅╲╱  6⋅x  + 6⋅x + 3  + 39"
      ]
     },
     "execution_count": 121,
     "metadata": {},
     "output_type": "execute_result"
    }
   ],
   "source": [
    "helper = expr.subs(y, x+1)\n",
    "helper = helper **2\n",
    "warstwica = helper - a**2\n",
    "expand(warstwica)"
   ]
  },
  {
   "cell_type": "code",
   "execution_count": 122,
   "metadata": {},
   "outputs": [
    {
     "data": {
      "image/png": "[encoded data removed]",
      "text/latex": [
       "$\\displaystyle 3 x^{2} + 3 \\left(x + 1\\right)^{2} - \\frac{3}{2}$"
      ],
      "text/plain": [
       "   2            2   3\n",
       "3⋅x  + 3⋅(x + 1)  - ─\n",
       "                    2"
      ]
     },
     "execution_count": 122,
     "metadata": {},
     "output_type": "execute_result"
    }
   ],
   "source": [
    "helper = expr - 6\n",
    "warstwica = helper.subs(y,x+1)**2 - (a-6)**2\n",
    "expand(warstwica)\n",
    "delta = 6**2-4*6*(-a**2+12*a-33)\n",
    "sol = solve(delta)[1]\n",
    "warstwica.subs(a, sol)\n"
   ]
  },
  {
   "cell_type": "markdown",
   "metadata": {},
   "source": [
    "... nie dokończone"
   ]
  },
  {
   "cell_type": "markdown",
   "metadata": {},
   "source": [
    "zad 2"
   ]
  },
  {
   "cell_type": "code",
   "execution_count": 123,
   "metadata": {},
   "outputs": [
    {
     "data": {
      "image/png": "[encoded data removed]",
      "text/latex": [
       "$\\displaystyle x^{4} + 2 x^{2} y - x^{2} - 2 y^{3} + 2 y$"
      ],
      "text/plain": [
       " 4      2      2      3      \n",
       "x  + 2⋅x ⋅y - x  - 2⋅y  + 2⋅y"
      ]
     },
     "execution_count": 123,
     "metadata": {},
     "output_type": "execute_result"
    }
   ],
   "source": [
    "f = x ** 4 - 2 * y ** 3 + 2 * x ** 2 * y - x ** 2 + 2 * y\n",
    "f"
   ]
  },
  {
   "cell_type": "code",
   "execution_count": 124,
   "metadata": {},
   "outputs": [
    {
     "data": {
      "image/png": "[encoded data removed]",
      "text/latex": [
       "$\\displaystyle 4 x^{3} + 4 x y - 2 x$"
      ],
      "text/plain": [
       "   3              \n",
       "4⋅x  + 4⋅x⋅y - 2⋅x"
      ]
     },
     "metadata": {},
     "output_type": "display_data"
    },
    {
     "data": {
      "image/png": "[encoded data removed]",
      "text/latex": [
       "$\\displaystyle 8.667324$"
      ],
      "text/plain": [
       "8.66732400000000"
      ]
     },
     "execution_count": 124,
     "metadata": {},
     "output_type": "execute_result"
    }
   ],
   "source": [
    "dfx = f.diff(x)\n",
    "display(dfx)\n",
    "dfx.evalf(subs={x: 1.11, y: 1.22})"
   ]
  },
  {
   "cell_type": "code",
   "execution_count": 125,
   "metadata": {},
   "outputs": [
    {
     "data": {
      "image/png": "[encoded data removed]",
      "text/latex": [
       "$\\displaystyle 2 x^{2} - 6 y^{2} + 2$"
      ],
      "text/plain": [
       "   2      2    \n",
       "2⋅x  - 6⋅y  + 2"
      ]
     },
     "metadata": {},
     "output_type": "display_data"
    },
    {
     "data": {
      "image/png": "[encoded data removed]",
      "text/latex": [
       "$\\displaystyle -14.8558$"
      ],
      "text/plain": [
       "-14.8558000000000"
      ]
     },
     "execution_count": 125,
     "metadata": {},
     "output_type": "execute_result"
    }
   ],
   "source": [
    "dfy = f.diff(y)\n",
    "display(dfy)\n",
    "dfy.evalf(subs={x: 2.22, y: 2.11})"
   ]
  },
  {
   "cell_type": "code",
   "execution_count": 126,
   "metadata": {},
   "outputs": [
    {
     "data": {
      "image/png": "[encoded data removed]",
      "text/latex": [
       "$\\displaystyle 4$"
      ],
      "text/plain": [
       "4"
      ]
     },
     "metadata": {},
     "output_type": "display_data"
    },
    {
     "data": {
      "image/png": "[encoded data removed]",
      "text/latex": [
       "$\\displaystyle 4.0$"
      ],
      "text/plain": [
       "4.00000000000000"
      ]
     },
     "execution_count": 126,
     "metadata": {},
     "output_type": "execute_result"
    }
   ],
   "source": [
    "dfxxy = f.diff(x, x, y)\n",
    "display(dfxxy)\n",
    "dfxxy.evalf(subs={x: 4.44, y: 3.44})"
   ]
  },
  {
   "cell_type": "code",
   "execution_count": 127,
   "metadata": {},
   "outputs": [
    {
     "data": {
      "image/png": "[encoded data removed]",
      "text/latex": [
       "$\\displaystyle 24 x$"
      ],
      "text/plain": [
       "24⋅x"
      ]
     },
     "metadata": {},
     "output_type": "display_data"
    },
    {
     "data": {
      "image/png": "[encoded data removed]",
      "text/latex": [
       "$\\displaystyle 79.92$"
      ],
      "text/plain": [
       "79.9200000000000"
      ]
     },
     "execution_count": 127,
     "metadata": {},
     "output_type": "execute_result"
    }
   ],
   "source": [
    "dfxxx = f.diff(x, x, x)\n",
    "display(dfxxx)\n",
    "dfxxx.evalf(subs={x: 3.33, y: 4.33})"
   ]
  },
  {
   "cell_type": "code",
   "execution_count": 128,
   "metadata": {},
   "outputs": [
    {
     "data": {
      "image/png": "[encoded data removed]",
      "text/latex": [
       "$\\displaystyle 0$"
      ],
      "text/plain": [
       "0"
      ]
     },
     "metadata": {},
     "output_type": "display_data"
    },
    {
     "data": {
      "image/png": "[encoded data removed]",
      "text/latex": [
       "$\\displaystyle 0$"
      ],
      "text/plain": [
       "0"
      ]
     },
     "execution_count": 128,
     "metadata": {},
     "output_type": "execute_result"
    }
   ],
   "source": [
    "dfyxy = f.diff(y, x, y)\n",
    "display(dfyxy)\n",
    "dfyxy.evalf(subs={x: 3.33, y: 4.33})"
   ]
  },
  {
   "cell_type": "code",
   "execution_count": 129,
   "metadata": {},
   "outputs": [
    {
     "data": {
      "image/png": "[encoded data removed]",
      "text/latex": [
       "$\\displaystyle 0$"
      ],
      "text/plain": [
       "0"
      ]
     },
     "metadata": {},
     "output_type": "display_data"
    },
    {
     "data": {
      "image/png": "[encoded data removed]",
      "text/latex": [
       "$\\displaystyle 0$"
      ],
      "text/plain": [
       "0"
      ]
     },
     "execution_count": 129,
     "metadata": {},
     "output_type": "execute_result"
    }
   ],
   "source": [
    "dfyyx = f.diff(y, y, x)\n",
    "display(dfyyx)\n",
    "dfyyx.evalf(subs={x: 4.44, y: 3.44})"
   ]
  },
  {
   "cell_type": "markdown",
   "metadata": {},
   "source": [
    "Zad3"
   ]
  },
  {
   "cell_type": "code",
   "execution_count": 130,
   "metadata": {},
   "outputs": [
    {
     "data": {
      "image/png": "[encoded data removed]",
      "text/latex": [
       "$\\displaystyle x^{4} + 2 x^{2} y - x^{2} - 2 y^{3} + 2 y$"
      ],
      "text/plain": [
       " 4      2      2      3      \n",
       "x  + 2⋅x ⋅y - x  - 2⋅y  + 2⋅y"
      ]
     },
     "metadata": {},
     "output_type": "display_data"
    },
    {
     "data": {
      "text/plain": [
       "'dfx'"
      ]
     },
     "metadata": {},
     "output_type": "display_data"
    },
    {
     "data": {
      "image/png": "[encoded data removed]",
      "text/latex": [
       "$\\displaystyle 4 x^{3} + 4 x y - 2 x$"
      ],
      "text/plain": [
       "   3              \n",
       "4⋅x  + 4⋅x⋅y - 2⋅x"
      ]
     },
     "metadata": {},
     "output_type": "display_data"
    },
    {
     "data": {
      "text/plain": [
       "'dfy'"
      ]
     },
     "metadata": {},
     "output_type": "display_data"
    },
    {
     "data": {
      "image/png": "[encoded data removed]",
      "text/latex": [
       "$\\displaystyle 2 x^{2} - 6 y^{2} + 2$"
      ],
      "text/plain": [
       "   2      2    \n",
       "2⋅x  - 6⋅y  + 2"
      ]
     },
     "metadata": {},
     "output_type": "display_data"
    },
    {
     "data": {
      "text/plain": [
       "'dfxx'"
      ]
     },
     "metadata": {},
     "output_type": "display_data"
    },
    {
     "data": {
      "image/png": "[encoded data removed]",
      "text/latex": [
       "$\\displaystyle 2 \\cdot \\left(6 x^{2} + 2 y - 1\\right)$"
      ],
      "text/plain": [
       "  ⎛   2          ⎞\n",
       "2⋅⎝6⋅x  + 2⋅y - 1⎠"
      ]
     },
     "metadata": {},
     "output_type": "display_data"
    },
    {
     "data": {
      "text/plain": [
       "'dfxy'"
      ]
     },
     "metadata": {},
     "output_type": "display_data"
    },
    {
     "data": {
      "image/png": "[encoded data removed]",
      "text/latex": [
       "$\\displaystyle 4 x$"
      ],
      "text/plain": [
       "4⋅x"
      ]
     },
     "metadata": {},
     "output_type": "display_data"
    },
    {
     "data": {
      "text/plain": [
       "'dfyy'"
      ]
     },
     "metadata": {},
     "output_type": "display_data"
    },
    {
     "data": {
      "image/png": "[encoded data removed]",
      "text/latex": [
       "$\\displaystyle - 12 y$"
      ],
      "text/plain": [
       "-12⋅y"
      ]
     },
     "metadata": {},
     "output_type": "display_data"
    },
    {
     "data": {
      "text/plain": [
       "'dfyx'"
      ]
     },
     "metadata": {},
     "output_type": "display_data"
    },
    {
     "data": {
      "image/png": "[encoded data removed]",
      "text/latex": [
       "$\\displaystyle 4 x$"
      ],
      "text/plain": [
       "4⋅x"
      ]
     },
     "metadata": {},
     "output_type": "display_data"
    }
   ],
   "source": [
    "display(f)\n",
    "display(\"dfx\", dfx)\n",
    "display(\"dfy\", dfy)\n",
    "dfxx = f.diff(x, x)\n",
    "display(\"dfxx\", dfxx)\n",
    "dfxy = f.diff(x, y)\n",
    "display(\"dfxy\", dfxy)\n",
    "dfyy = f.diff(y, y)\n",
    "display(\"dfyy\", dfyy)\n",
    "dfyx = f.diff(y, x)\n",
    "display(\"dfyx\", dfyx)"
   ]
  },
  {
   "cell_type": "code",
   "execution_count": 131,
   "metadata": {},
   "outputs": [
    {
     "data": {
      "image/png": "[encoded data removed]",
      "text/latex": [
       "$\\displaystyle \\left[ \\left\\{ x : 0, \\  y : - \\frac{\\sqrt{3}}{3}\\right\\}, \\  \\left\\{ x : 0, \\  y : \\frac{\\sqrt{3}}{3}\\right\\}, \\  \\left\\{ x : - \\sqrt{\\frac{2}{3} + \\frac{\\sqrt{19}}{6}}, \\  y : - \\frac{\\sqrt{19}}{6} - \\frac{1}{6}\\right\\}, \\  \\left\\{ x : \\sqrt{\\frac{2}{3} + \\frac{\\sqrt{19}}{6}}, \\  y : - \\frac{\\sqrt{19}}{6} - \\frac{1}{6}\\right\\}\\right]$"
      ],
      "text/plain": [
       "⎡                                ⎧        _________              ⎫  ⎧       __\n",
       "⎢⎧         -√3 ⎫  ⎧         √3⎫  ⎪       ╱ 2   √19        √19   1⎪  ⎪      ╱ 2\n",
       "⎢⎨x: 0, y: ────⎬, ⎨x: 0, y: ──⎬, ⎨x: -  ╱  ─ + ─── , y: - ─── - ─⎬, ⎨x:   ╱  ─\n",
       "⎢⎩          3  ⎭  ⎩         3 ⎭  ⎪    ╲╱   3    6          6    6⎪  ⎪   ╲╱   3\n",
       "⎣                                ⎩                               ⎭  ⎩         \n",
       "\n",
       "_______              ⎫⎤\n",
       "   √19        √19   1⎪⎥\n",
       " + ─── , y: - ─── - ─⎬⎥\n",
       "    6          6    6⎪⎥\n",
       "                     ⎭⎦"
      ]
     },
     "execution_count": 131,
     "metadata": {},
     "output_type": "execute_result"
    }
   ],
   "source": [
    "sol = solve([dfx, dfy])\n",
    "sol"
   ]
  },
  {
   "cell_type": "code",
   "execution_count": 132,
   "metadata": {},
   "outputs": [
    {
     "data": {
      "text/plain": [
       "'point'"
      ]
     },
     "metadata": {},
     "output_type": "display_data"
    },
    {
     "data": {
      "image/png": "[encoded data removed]",
      "text/latex": [
       "$\\displaystyle \\left\\{ x : 0, \\  y : - \\frac{\\sqrt{3}}{3}\\right\\}$"
      ],
      "text/plain": [
       "⎧         -√3 ⎫\n",
       "⎨x: 0, y: ────⎬\n",
       "⎩          3  ⎭"
      ]
     },
     "metadata": {},
     "output_type": "display_data"
    },
    {
     "data": {
      "text/plain": [
       "'eval'"
      ]
     },
     "metadata": {},
     "output_type": "display_data"
    },
    {
     "data": {
      "image/png": "[encoded data removed]",
      "text/latex": [
       "$\\displaystyle 0$"
      ],
      "text/plain": [
       "0"
      ]
     },
     "metadata": {},
     "output_type": "display_data"
    },
    {
     "data": {
      "image/png": "[encoded data removed]",
      "text/latex": [
       "$\\displaystyle -0.577350269189626$"
      ],
      "text/plain": [
       "-0.577350269189626"
      ]
     },
     "metadata": {},
     "output_type": "display_data"
    },
    {
     "data": {
      "text/plain": [
       "'det1'"
      ]
     },
     "metadata": {},
     "output_type": "display_data"
    },
    {
     "data": {
      "image/png": "[encoded data removed]",
      "text/latex": [
       "$\\displaystyle - \\frac{4 \\sqrt{3}}{3} - 2$"
      ],
      "text/plain": [
       "  4⋅√3    \n",
       "- ──── - 2\n",
       "   3      "
      ]
     },
     "metadata": {},
     "output_type": "display_data"
    },
    {
     "data": {
      "text/plain": [
       "'eval'"
      ]
     },
     "metadata": {},
     "output_type": "display_data"
    },
    {
     "data": {
      "image/png": "[encoded data removed]",
      "text/latex": [
       "$\\displaystyle -4.3094010767585$"
      ],
      "text/plain": [
       "-4.30940107675850"
      ]
     },
     "metadata": {},
     "output_type": "display_data"
    },
    {
     "data": {
      "text/plain": [
       "'det2'"
      ]
     },
     "metadata": {},
     "output_type": "display_data"
    },
    {
     "data": {
      "text/plain": [
       "array([[-4.30940108,  0.        ],\n",
       "       [ 0.        ,  6.92820323]])"
      ]
     },
     "metadata": {},
     "output_type": "display_data"
    },
    {
     "data": {
      "image/png": "[encoded data removed]",
      "text/latex": [
       "$\\displaystyle -29.856406460551$"
      ],
      "text/plain": [
       "-29.85640646055102"
      ]
     },
     "metadata": {},
     "output_type": "display_data"
    },
    {
     "data": {
      "text/plain": [
       "'v'"
      ]
     },
     "metadata": {},
     "output_type": "display_data"
    },
    {
     "data": {
      "image/png": "[encoded data removed]",
      "text/latex": [
       "$\\displaystyle - \\frac{4 \\sqrt{3}}{9}$"
      ],
      "text/plain": [
       "-4⋅√3 \n",
       "──────\n",
       "  9   "
      ]
     },
     "metadata": {},
     "output_type": "display_data"
    },
    {
     "data": {
      "text/plain": [
       "'eval v'"
      ]
     },
     "metadata": {},
     "output_type": "display_data"
    },
    {
     "data": {
      "image/png": "[encoded data removed]",
      "text/latex": [
       "$\\displaystyle -0.769800358919501$"
      ],
      "text/plain": [
       "-0.769800358919501"
      ]
     },
     "metadata": {},
     "output_type": "display_data"
    },
    {
     "data": {
      "text/plain": [
       "'else'"
      ]
     },
     "metadata": {},
     "output_type": "display_data"
    },
    {
     "data": {
      "text/plain": [
       "'point'"
      ]
     },
     "metadata": {},
     "output_type": "display_data"
    },
    {
     "data": {
      "image/png": "[encoded data removed]",
      "text/latex": [
       "$\\displaystyle \\left\\{ x : 0, \\  y : \\frac{\\sqrt{3}}{3}\\right\\}$"
      ],
      "text/plain": [
       "⎧         √3⎫\n",
       "⎨x: 0, y: ──⎬\n",
       "⎩         3 ⎭"
      ]
     },
     "metadata": {},
     "output_type": "display_data"
    },
    {
     "data": {
      "text/plain": [
       "'eval'"
      ]
     },
     "metadata": {},
     "output_type": "display_data"
    },
    {
     "data": {
      "image/png": "[encoded data removed]",
      "text/latex": [
       "$\\displaystyle 0$"
      ],
      "text/plain": [
       "0"
      ]
     },
     "metadata": {},
     "output_type": "display_data"
    },
    {
     "data": {
      "image/png": "[encoded data removed]",
      "text/latex": [
       "$\\displaystyle 0.577350269189626$"
      ],
      "text/plain": [
       "0.577350269189626"
      ]
     },
     "metadata": {},
     "output_type": "display_data"
    },
    {
     "data": {
      "text/plain": [
       "'det1'"
      ]
     },
     "metadata": {},
     "output_type": "display_data"
    },
    {
     "data": {
      "image/png": "[encoded data removed]",
      "text/latex": [
       "$\\displaystyle -2 + \\frac{4 \\sqrt{3}}{3}$"
      ],
      "text/plain": [
       "     4⋅√3\n",
       "-2 + ────\n",
       "      3  "
      ]
     },
     "metadata": {},
     "output_type": "display_data"
    },
    {
     "data": {
      "text/plain": [
       "'eval'"
      ]
     },
     "metadata": {},
     "output_type": "display_data"
    },
    {
     "data": {
      "image/png": "[encoded data removed]",
      "text/latex": [
       "$\\displaystyle 0.309401076758503$"
      ],
      "text/plain": [
       "0.309401076758503"
      ]
     },
     "metadata": {},
     "output_type": "display_data"
    },
    {
     "data": {
      "text/plain": [
       "'det2'"
      ]
     },
     "metadata": {},
     "output_type": "display_data"
    },
    {
     "data": {
      "text/plain": [
       "array([[ 0.30940108,  0.        ],\n",
       "       [ 0.        , -6.92820323]])"
      ]
     },
     "metadata": {},
     "output_type": "display_data"
    },
    {
     "data": {
      "image/png": "[encoded data removed]",
      "text/latex": [
       "$\\displaystyle -2.14359353944898$"
      ],
      "text/plain": [
       "-2.143593539448981"
      ]
     },
     "metadata": {},
     "output_type": "display_data"
    },
    {
     "data": {
      "text/plain": [
       "'v'"
      ]
     },
     "metadata": {},
     "output_type": "display_data"
    },
    {
     "data": {
      "image/png": "[encoded data removed]",
      "text/latex": [
       "$\\displaystyle \\frac{4 \\sqrt{3}}{9}$"
      ],
      "text/plain": [
       "4⋅√3\n",
       "────\n",
       " 9  "
      ]
     },
     "metadata": {},
     "output_type": "display_data"
    },
    {
     "data": {
      "text/plain": [
       "'eval v'"
      ]
     },
     "metadata": {},
     "output_type": "display_data"
    },
    {
     "data": {
      "image/png": "[encoded data removed]",
      "text/latex": [
       "$\\displaystyle 0.769800358919501$"
      ],
      "text/plain": [
       "0.769800358919501"
      ]
     },
     "metadata": {},
     "output_type": "display_data"
    },
    {
     "data": {
      "text/plain": [
       "'else'"
      ]
     },
     "metadata": {},
     "output_type": "display_data"
    },
    {
     "data": {
      "text/plain": [
       "'point'"
      ]
     },
     "metadata": {},
     "output_type": "display_data"
    },
    {
     "data": {
      "image/png": "[encoded data removed]",
      "text/latex": [
       "$\\displaystyle \\left\\{ x : - \\sqrt{\\frac{2}{3} + \\frac{\\sqrt{19}}{6}}, \\  y : - \\frac{\\sqrt{19}}{6} - \\frac{1}{6}\\right\\}$"
      ],
      "text/plain": [
       "⎧        _________              ⎫\n",
       "⎪       ╱ 2   √19        √19   1⎪\n",
       "⎨x: -  ╱  ─ + ─── , y: - ─── - ─⎬\n",
       "⎪    ╲╱   3    6          6    6⎪\n",
       "⎩                               ⎭"
      ]
     },
     "metadata": {},
     "output_type": "display_data"
    },
    {
     "data": {
      "text/plain": [
       "'eval'"
      ]
     },
     "metadata": {},
     "output_type": "display_data"
    },
    {
     "data": {
      "image/png": "[encoded data removed]",
      "text/latex": [
       "$\\displaystyle -1.18031767923871$"
      ],
      "text/plain": [
       "-1.18031767923871"
      ]
     },
     "metadata": {},
     "output_type": "display_data"
    },
    {
     "data": {
      "image/png": "[encoded data removed]",
      "text/latex": [
       "$\\displaystyle -0.893149823923446$"
      ],
      "text/plain": [
       "-0.893149823923446"
      ]
     },
     "metadata": {},
     "output_type": "display_data"
    },
    {
     "data": {
      "text/plain": [
       "'det1'"
      ]
     },
     "metadata": {},
     "output_type": "display_data"
    },
    {
     "data": {
      "image/png": "[encoded data removed]",
      "text/latex": [
       "$\\displaystyle \\frac{16}{3} + \\frac{4 \\sqrt{19}}{3}$"
      ],
      "text/plain": [
       "16   4⋅√19\n",
       "── + ─────\n",
       "3      3  "
      ]
     },
     "metadata": {},
     "output_type": "display_data"
    },
    {
     "data": {
      "text/plain": [
       "'eval'"
      ]
     },
     "metadata": {},
     "output_type": "display_data"
    },
    {
     "data": {
      "image/png": "[encoded data removed]",
      "text/latex": [
       "$\\displaystyle 11.1451985913876$"
      ],
      "text/plain": [
       "11.1451985913876"
      ]
     },
     "metadata": {},
     "output_type": "display_data"
    },
    {
     "data": {
      "text/plain": [
       "'det2'"
      ]
     },
     "metadata": {},
     "output_type": "display_data"
    },
    {
     "data": {
      "text/plain": [
       "array([[11.14519859, -4.72127072],\n",
       "       [-4.72127072, 10.71779789]])"
      ]
     },
     "metadata": {},
     "output_type": "display_data"
    },
    {
     "data": {
      "image/png": "[encoded data removed]",
      "text/latex": [
       "$\\displaystyle 97.1615887311005$"
      ],
      "text/plain": [
       "97.16158873110047"
      ]
     },
     "metadata": {},
     "output_type": "display_data"
    },
    {
     "data": {
      "text/plain": [
       "'v'"
      ]
     },
     "metadata": {},
     "output_type": "display_data"
    },
    {
     "data": {
      "image/png": "[encoded data removed]",
      "text/latex": [
       "$\\displaystyle 2 \\cdot \\left(\\frac{2}{3} + \\frac{\\sqrt{19}}{6}\\right) \\left(- \\frac{\\sqrt{19}}{6} - \\frac{1}{6}\\right) - \\frac{\\sqrt{19}}{2} - 1 - 2 \\left(- \\frac{\\sqrt{19}}{6} - \\frac{1}{6}\\right)^{3} + \\left(\\frac{2}{3} + \\frac{\\sqrt{19}}{6}\\right)^{2}$"
      ],
      "text/plain": [
       "                                                 3            2\n",
       "  ⎛2   √19⎞ ⎛  √19   1⎞   √19         ⎛  √19   1⎞    ⎛2   √19⎞ \n",
       "2⋅⎜─ + ───⎟⋅⎜- ─── - ─⎟ - ─── - 1 - 2⋅⎜- ─── - ─⎟  + ⎜─ + ───⎟ \n",
       "  ⎝3    6 ⎠ ⎝   6    6⎠    2          ⎝   6    6⎠    ⎝3    6 ⎠ "
      ]
     },
     "metadata": {},
     "output_type": "display_data"
    },
    {
     "data": {
      "text/plain": [
       "'eval v'"
      ]
     },
     "metadata": {},
     "output_type": "display_data"
    },
    {
     "data": {
      "image/png": "[encoded data removed]",
      "text/latex": [
       "$\\displaystyle -2.30220518383839$"
      ],
      "text/plain": [
       "-2.30220518383839"
      ]
     },
     "metadata": {},
     "output_type": "display_data"
    },
    {
     "data": {
      "text/plain": [
       "'minimum'"
      ]
     },
     "metadata": {},
     "output_type": "display_data"
    },
    {
     "data": {
      "text/plain": [
       "'point'"
      ]
     },
     "metadata": {},
     "output_type": "display_data"
    },
    {
     "data": {
      "image/png": "[encoded data removed]",
      "text/latex": [
       "$\\displaystyle \\left\\{ x : \\sqrt{\\frac{2}{3} + \\frac{\\sqrt{19}}{6}}, \\  y : - \\frac{\\sqrt{19}}{6} - \\frac{1}{6}\\right\\}$"
      ],
      "text/plain": [
       "⎧       _________              ⎫\n",
       "⎪      ╱ 2   √19        √19   1⎪\n",
       "⎨x:   ╱  ─ + ─── , y: - ─── - ─⎬\n",
       "⎪   ╲╱   3    6          6    6⎪\n",
       "⎩                              ⎭"
      ]
     },
     "metadata": {},
     "output_type": "display_data"
    },
    {
     "data": {
      "text/plain": [
       "'eval'"
      ]
     },
     "metadata": {},
     "output_type": "display_data"
    },
    {
     "data": {
      "image/png": "[encoded data removed]",
      "text/latex": [
       "$\\displaystyle 1.18031767923871$"
      ],
      "text/plain": [
       "1.18031767923871"
      ]
     },
     "metadata": {},
     "output_type": "display_data"
    },
    {
     "data": {
      "image/png": "[encoded data removed]",
      "text/latex": [
       "$\\displaystyle -0.893149823923446$"
      ],
      "text/plain": [
       "-0.893149823923446"
      ]
     },
     "metadata": {},
     "output_type": "display_data"
    },
    {
     "data": {
      "text/plain": [
       "'det1'"
      ]
     },
     "metadata": {},
     "output_type": "display_data"
    },
    {
     "data": {
      "image/png": "[encoded data removed]",
      "text/latex": [
       "$\\displaystyle \\frac{16}{3} + \\frac{4 \\sqrt{19}}{3}$"
      ],
      "text/plain": [
       "16   4⋅√19\n",
       "── + ─────\n",
       "3      3  "
      ]
     },
     "metadata": {},
     "output_type": "display_data"
    },
    {
     "data": {
      "text/plain": [
       "'eval'"
      ]
     },
     "metadata": {},
     "output_type": "display_data"
    },
    {
     "data": {
      "image/png": "[encoded data removed]",
      "text/latex": [
       "$\\displaystyle 11.1451985913876$"
      ],
      "text/plain": [
       "11.1451985913876"
      ]
     },
     "metadata": {},
     "output_type": "display_data"
    },
    {
     "data": {
      "text/plain": [
       "'det2'"
      ]
     },
     "metadata": {},
     "output_type": "display_data"
    },
    {
     "data": {
      "text/plain": [
       "array([[11.14519859,  4.72127072],\n",
       "       [ 4.72127072, 10.71779789]])"
      ]
     },
     "metadata": {},
     "output_type": "display_data"
    },
    {
     "data": {
      "image/png": "[encoded data removed]",
      "text/latex": [
       "$\\displaystyle 97.1615887311005$"
      ],
      "text/plain": [
       "97.16158873110047"
      ]
     },
     "metadata": {},
     "output_type": "display_data"
    },
    {
     "data": {
      "text/plain": [
       "'v'"
      ]
     },
     "metadata": {},
     "output_type": "display_data"
    },
    {
     "data": {
      "image/png": "[encoded data removed]",
      "text/latex": [
       "$\\displaystyle 2 \\cdot \\left(\\frac{2}{3} + \\frac{\\sqrt{19}}{6}\\right) \\left(- \\frac{\\sqrt{19}}{6} - \\frac{1}{6}\\right) - \\frac{\\sqrt{19}}{2} - 1 - 2 \\left(- \\frac{\\sqrt{19}}{6} - \\frac{1}{6}\\right)^{3} + \\left(\\frac{2}{3} + \\frac{\\sqrt{19}}{6}\\right)^{2}$"
      ],
      "text/plain": [
       "                                                 3            2\n",
       "  ⎛2   √19⎞ ⎛  √19   1⎞   √19         ⎛  √19   1⎞    ⎛2   √19⎞ \n",
       "2⋅⎜─ + ───⎟⋅⎜- ─── - ─⎟ - ─── - 1 - 2⋅⎜- ─── - ─⎟  + ⎜─ + ───⎟ \n",
       "  ⎝3    6 ⎠ ⎝   6    6⎠    2          ⎝   6    6⎠    ⎝3    6 ⎠ "
      ]
     },
     "metadata": {},
     "output_type": "display_data"
    },
    {
     "data": {
      "text/plain": [
       "'eval v'"
      ]
     },
     "metadata": {},
     "output_type": "display_data"
    },
    {
     "data": {
      "image/png": "[encoded data removed]",
      "text/latex": [
       "$\\displaystyle -2.30220518383839$"
      ],
      "text/plain": [
       "-2.30220518383839"
      ]
     },
     "metadata": {},
     "output_type": "display_data"
    },
    {
     "data": {
      "text/plain": [
       "'minimum'"
      ]
     },
     "metadata": {},
     "output_type": "display_data"
    }
   ],
   "source": [
    "for point in sol:\n",
    "    display(\"point\", point)\n",
    "    display(\"eval\", point.get(x).evalf(), point.get(y).evalf())\n",
    "    det1 = dfxx.subs(point)\n",
    "    display(\"det1\", det1, \"eval\", det1.evalf())\n",
    "    det2 = np.array([\n",
    "        [\n",
    "            dfxx.subs(point),\n",
    "            dfxy.subs(point),\n",
    "        ],\n",
    "        [\n",
    "            dfyx.subs(point),\n",
    "            dfyy.subs(point)\n",
    "        ]\n",
    "    ], dtype=np.float64)\n",
    "    display(\"det2\", det2)\n",
    "    det2v = np.linalg.det(det2)\n",
    "    display(det2v)\n",
    "\n",
    "    v = f.subs(point)\n",
    "    display(\"v\", v, \"eval v\", v.evalf())\n",
    "\n",
    "    if det1 > 0 and det2v > 0:\n",
    "        display(\"minimum\")\n",
    "    elif det1 < 0 and det2v > 0:\n",
    "        display(\"maximum\")\n",
    "    else:\n",
    "        display(\"else\")"
   ]
  },
  {
   "cell_type": "markdown",
   "metadata": {},
   "source": [
    "zad 4"
   ]
  },
  {
   "cell_type": "code",
   "execution_count": 133,
   "metadata": {},
   "outputs": [
    {
     "data": {
      "image/png": "[encoded data removed]",
      "text/latex": [
       "$\\displaystyle 6 x - 2 y - 2$"
      ],
      "text/plain": [
       "6⋅x - 2⋅y - 2"
      ]
     },
     "execution_count": 133,
     "metadata": {},
     "output_type": "execute_result"
    }
   ],
   "source": [
    "xval = 1\n",
    "yval = 1\n",
    "styczna = diff(f,x).subs(x, xval).subs(y,yval)*(x-xval) + diff(f,y).subs(x, xval).subs(y,yval)*(y-yval)+f.subs(x, xval).subs(y,yval)\n",
    "styczna"
   ]
  },
  {
   "cell_type": "markdown",
   "metadata": {},
   "source": [
    "zad 5"
   ]
  },
  {
   "cell_type": "code",
   "execution_count": 134,
   "metadata": {},
   "outputs": [
    {
     "data": {
      "image/png": "[encoded data removed]",
      "text/latex": [
       "$\\displaystyle \\left[ 4 x^{3} + 4 x y - 2 x, \\  2 x^{2} - 6 y^{2} + 2\\right]$"
      ],
      "text/plain": [
       "⎡   3                   2      2    ⎤\n",
       "⎣4⋅x  + 4⋅x⋅y - 2⋅x, 2⋅x  - 6⋅y  + 2⎦"
      ]
     },
     "execution_count": 134,
     "metadata": {},
     "output_type": "execute_result"
    }
   ],
   "source": [
    "gradient = [diff(f,x), diff(f,y)]\n",
    "gradient"
   ]
  },
  {
   "cell_type": "code",
   "execution_count": 135,
   "metadata": {},
   "outputs": [
    {
     "data": {
      "image/png": "[encoded data removed]",
      "text/latex": [
       "$\\displaystyle \\left[ 52, \\  -44\\right]$"
      ],
      "text/plain": [
       "[52, -44]"
      ]
     },
     "execution_count": 135,
     "metadata": {},
     "output_type": "execute_result"
    }
   ],
   "source": [
    "xval = 2\n",
    "yval = 3\n",
    "gradient = [diff(f,x).subs(x, xval).subs(y,yval),\n",
    "             diff(f,y).subs(x, xval).subs(y,yval)]\n",
    "gradient\n",
    "\n"
   ]
  },
  {
   "cell_type": "code",
   "execution_count": 136,
   "metadata": {},
   "outputs": [
    {
     "data": {
      "image/png": "[encoded data removed]",
      "text/latex": [
       "$\\displaystyle \\sqrt{5}$"
      ],
      "text/plain": [
       "√5"
      ]
     },
     "execution_count": 136,
     "metadata": {},
     "output_type": "execute_result"
    }
   ],
   "source": [
    "vector = [1,2]\n",
    "valvector = sqrt(vector[0]**2+vector[1]**2)\n",
    "valvector"
   ]
  },
  {
   "cell_type": "code",
   "execution_count": 137,
   "metadata": {},
   "outputs": [
    {
     "data": {
      "image/png": "[encoded data removed]",
      "text/latex": [
       "$\\displaystyle - \\frac{36 \\sqrt{5}}{5}$"
      ],
      "text/plain": [
       "-36⋅√5 \n",
       "───────\n",
       "   5   "
      ]
     },
     "execution_count": 137,
     "metadata": {},
     "output_type": "execute_result"
    }
   ],
   "source": [
    "kier = (gradient[0]*vector[0] + gradient[1]*vector[1])/valvector\n",
    "kier"
   ]
  },
  {
   "cell_type": "code",
   "execution_count": 138,
   "metadata": {},
   "outputs": [
    {
     "data": {
      "image/png": "[encoded data removed]",
      "text/latex": [
       "$\\displaystyle -16.1$"
      ],
      "text/plain": [
       "-16.100"
      ]
     },
     "execution_count": 138,
     "metadata": {},
     "output_type": "execute_result"
    }
   ],
   "source": [
    "kier.evalf(5)"
   ]
  }
 ],
 "metadata": {
  "kernelspec": {
   "display_name": ".venv",
   "language": "python",
   "name": "python3"
  },
  "language_info": {
   "codemirror_mode": {
    "name": "ipython",
    "version": 3
   },
   "file_extension": ".py",
   "mimetype": "text/x-python",
   "name": "python",
   "nbconvert_exporter": "python",
   "pygments_lexer": "ipython3",
   "version": "3.12.2"
  }
 },
 "nbformat": 4,
 "nbformat_minor": 2
}
