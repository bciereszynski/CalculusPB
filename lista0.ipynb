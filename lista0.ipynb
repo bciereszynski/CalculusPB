{
 "cells": [
  {
   "cell_type": "code",
   "execution_count": 5,
   "metadata": {},
   "outputs": [],
   "source": [
    "from sympy import *\n",
    "from matplotlib import *"
   ]
  },
  {
   "cell_type": "markdown",
   "metadata": {},
   "source": [
    "3. David Hasselhoff leży na plaży w Malibu i widzi Pamelę Anderson wołającą o pomoc z morza.\n",
    "On znajduje się w odległości 20m od wody, ona w odległości 20 m od brzegu. Jednak wzdłuż lini\n",
    "brzegowej dzieli ich jeszcze dodatkowych 50 m. David biega po piasku z prędkością 5 m/s, pływa\n",
    "z prędkością 2 m/s. Mógłby albo (1) pobiec do Pameli możliwie prostą drogą, a następnie zacząć\n",
    "płynąć, albo (2) najpierw dobiec do takiego punktu plaży, od którego będzie miał najkrótszy\n",
    "odcinek do przepłynięcia, albo coś pomiędzy. Która strategia będzie najlepsza, jeśli liczy się\n",
    "czas dotarcia do Pameli?"
   ]
  },
  {
   "cell_type": "code",
   "execution_count": 6,
   "metadata": {},
   "outputs": [
    {
     "data": {
      "text/latex": [
       "$\\displaystyle \\frac{\\sqrt{x^{2} + 400}}{2} + \\frac{\\sqrt{\\left(50 - x\\right)^{2} + 400}}{5}$"
      ],
      "text/plain": [
       "sqrt(x**2 + 400)/2 + sqrt((50 - x)**2 + 400)/5"
      ]
     },
     "execution_count": 6,
     "metadata": {},
     "output_type": "execute_result"
    }
   ],
   "source": [
    "x = symbols('x')\n",
    "expr3 = sqrt(x**2+20**2)/2 + sqrt((50-x)**2+20**2)/5\n",
    "domain = Interval(-float('inf'), float('inf'))\n",
    "expr3"
   ]
  },
  {
   "cell_type": "code",
   "execution_count": 7,
   "metadata": {},
   "outputs": [
    {
     "data": {
      "text/latex": [
       "$\\displaystyle \\frac{x}{5 \\sqrt{\\left(x - 50\\right)^{2} + 400}} + \\frac{x}{2 \\sqrt{x^{2} + 400}} - \\frac{10}{\\sqrt{\\left(x - 50\\right)^{2} + 400}}$"
      ],
      "text/plain": [
       "x/(5*sqrt((x - 50)**2 + 400)) + x/(2*sqrt(x**2 + 400)) - 10/sqrt((x - 50)**2 + 400)"
      ]
     },
     "execution_count": 7,
     "metadata": {},
     "output_type": "execute_result"
    }
   ],
   "source": [
    "d_expr3 = simplify(diff(expr3))\n",
    "d_expr3"
   ]
  },
  {
   "cell_type": "code",
   "execution_count": 8,
   "metadata": {},
   "outputs": [
    {
     "data": {
      "text/latex": [
       "$\\displaystyle \\left\\{7.755\\right\\}$"
      ],
      "text/plain": [
       "{7.755}"
      ]
     },
     "execution_count": 8,
     "metadata": {},
     "output_type": "execute_result"
    }
   ],
   "source": [
    "solveset(d_expr3, x, domain).n(4)\n"
   ]
  },
  {
   "cell_type": "code",
   "execution_count": 9,
   "metadata": {},
   "outputs": [
    {
     "data": {
      "text/latex": [
       "$\\displaystyle \\left(-\\infty, 7.756\\right)$"
      ],
      "text/plain": [
       "Interval.open(-oo, 7.756)"
      ]
     },
     "execution_count": 9,
     "metadata": {},
     "output_type": "execute_result"
    }
   ],
   "source": [
    "solveset(d_expr3<0, x, domain).n(4)"
   ]
  },
  {
   "cell_type": "code",
   "execution_count": 10,
   "metadata": {},
   "outputs": [
    {
     "data": {
      "text/latex": [
       "$\\displaystyle \\left(7.756, \\infty\\right)$"
      ],
      "text/plain": [
       "Interval.open(7.756, oo)"
      ]
     },
     "execution_count": 10,
     "metadata": {},
     "output_type": "execute_result"
    }
   ],
   "source": [
    "solveset(d_expr3>0, x, domain).n(4)"
   ]
  },
  {
   "cell_type": "markdown",
   "metadata": {},
   "source": [
    "Pierwsza pochodna funckji jest ujemna w przedziale od -nieskończoności do 7,75, zatem funkcja maleje w tym przedziale oraz dodatnia w przedziale od 7,75 do nieskończoności, zatem funckaj rośnie w tym przedziale, zatem punkt 7,75 jest minimum lokalnym."
   ]
  },
  {
   "cell_type": "markdown",
   "metadata": {},
   "source": [
    "5. W zbiorniku znajdowało się 300 litrów wody. Po odkręceniu zaworów, w ciągu pierwszej minuty\n",
    "do zbiornika napłynęło 15 litrów wody, a w każdej następnej minucie o 3 litry wody więcej niż\n",
    "w poprzedniej. Jednocześnie przez zawór odpływowy w ciągu każdej minuty wydostawało się\n",
    "30 litrów wody. Wyznaczymy w jakiej minucie było w zbiorniku najmniej wody."
   ]
  },
  {
   "cell_type": "code",
   "execution_count": 11,
   "metadata": {},
   "outputs": [
    {
     "data": {
      "text/latex": [
       "$\\displaystyle \\frac{3 t^{2}}{2} - \\frac{33 t}{2} + 300$"
      ],
      "text/plain": [
       "3*t**2/2 - 33*t/2 + 300"
      ]
     },
     "execution_count": 11,
     "metadata": {},
     "output_type": "execute_result"
    }
   ],
   "source": [
    "t = symbols('t')\n",
    "expr5 = 300+t*(2*15+(t-1)*3)/2 - 30*t\n",
    "\n",
    "expr5 = simplify(expr5)\n",
    "expr5\n"
   ]
  },
  {
   "cell_type": "code",
   "execution_count": 12,
   "metadata": {},
   "outputs": [
    {
     "data": {
      "text/latex": [
       "$\\displaystyle \\frac{11}{2}$"
      ],
      "text/plain": [
       "11/2"
      ]
     },
     "execution_count": 12,
     "metadata": {},
     "output_type": "execute_result"
    }
   ],
   "source": [
    "d1_expr5 = diff(expr5)\n",
    "value = solve(d1_expr5)[0]\n",
    "value\n"
   ]
  },
  {
   "cell_type": "code",
   "execution_count": 13,
   "metadata": {},
   "outputs": [
    {
     "data": {
      "text/latex": [
       "$\\displaystyle 0$"
      ],
      "text/plain": [
       "0"
      ]
     },
     "execution_count": 13,
     "metadata": {},
     "output_type": "execute_result"
    }
   ],
   "source": [
    "d1_expr5.subs(t, value)"
   ]
  },
  {
   "cell_type": "code",
   "execution_count": 14,
   "metadata": {},
   "outputs": [
    {
     "data": {
      "text/latex": [
       "$\\displaystyle 3$"
      ],
      "text/plain": [
       "3"
      ]
     },
     "execution_count": 14,
     "metadata": {},
     "output_type": "execute_result"
    }
   ],
   "source": [
    "d2_expr5 = diff(d1_expr5)\n",
    "d2_expr5.subs(t, value)\n"
   ]
  },
  {
   "cell_type": "markdown",
   "metadata": {},
   "source": [
    "Pierwsza pochodna funkcji w punkcie 11/2 ma miejsce zerowe, natomiast druga pochodna w tym punkcie jest równa 3, zatem jest większa od zera, zatem z II warunku wystarczającego wynika że w minucie 11/2 "
   ]
  },
  {
   "cell_type": "markdown",
   "metadata": {},
   "source": [
    "2. Mężczyzna, którego oczy znajdują się na wysokości m patrzy na stojącą kobietę, która pokazuje\n",
    "f metrów nóg. Jaka powinna być między nimi odległość, by mężczyzna patrzył na nogi pod\n",
    "optymalnym kątem (możliwie największym)"
   ]
  },
  {
   "cell_type": "code",
   "execution_count": 15,
   "metadata": {},
   "outputs": [
    {
     "data": {
      "text/latex": [
       "$\\displaystyle \\frac{0.5 d}{d^{2} + 2.34}$"
      ],
      "text/plain": [
       "0.5*d/(d**2 + 2.34)"
      ]
     },
     "execution_count": 15,
     "metadata": {},
     "output_type": "execute_result"
    }
   ],
   "source": [
    "d, m, f= symbols('d m f')\n",
    "domain = Interval(0, float('inf'))\n",
    "tg1 = d/(m-f)\n",
    "tg2 = d/m\n",
    "expr6 = (tg1-tg2)/(1+(tg1*tg2))\n",
    "\n",
    "expr6 = simplify(expr6)\n",
    "expr6.subs({m: 1.8, f:0.5})\n",
    "\n"
   ]
  },
  {
   "cell_type": "code",
   "execution_count": 16,
   "metadata": {},
   "outputs": [
    {
     "data": {
      "text/latex": [
       "$\\displaystyle - \\frac{2 d^{2} f}{\\left(d^{2} - m \\left(f - m\\right)\\right)^{2}} + \\frac{f}{d^{2} - m \\left(f - m\\right)}$"
      ],
      "text/plain": [
       "-2*d**2*f/(d**2 - m*(f - m))**2 + f/(d**2 - m*(f - m))"
      ]
     },
     "execution_count": 16,
     "metadata": {},
     "output_type": "execute_result"
    }
   ],
   "source": [
    "d_expr6 = diff(expr6, d)\n",
    "d_expr6"
   ]
  },
  {
   "cell_type": "code",
   "execution_count": 17,
   "metadata": {},
   "outputs": [
    {
     "data": {
      "text/latex": [
       "$\\displaystyle 1.5297$"
      ],
      "text/plain": [
       "1.5297"
      ]
     },
     "execution_count": 17,
     "metadata": {},
     "output_type": "execute_result"
    }
   ],
   "source": [
    "value = list(solveset(d_expr6.subs({m: 1.8, f:0.5}), d, domain))[0]\n",
    "\n",
    "value.round(4)"
   ]
  },
  {
   "cell_type": "code",
   "execution_count": 18,
   "metadata": {},
   "outputs": [
    {
     "data": {
      "text/latex": [
       "$\\displaystyle 0$"
      ],
      "text/plain": [
       "0"
      ]
     },
     "execution_count": 18,
     "metadata": {},
     "output_type": "execute_result"
    }
   ],
   "source": [
    "d_expr6.subs(d, value).subs({m: 1.8, f:0.5})"
   ]
  },
  {
   "cell_type": "code",
   "execution_count": 19,
   "metadata": {},
   "outputs": [
    {
     "data": {
      "text/latex": [
       "$\\displaystyle \\left(1.5297, \\infty\\right)$"
      ],
      "text/plain": [
       "Interval.open(1.5297, oo)"
      ]
     },
     "execution_count": 19,
     "metadata": {},
     "output_type": "execute_result"
    }
   ],
   "source": [
    "solveset(d_expr6.subs({m: 1.8, f:0.5})<0, d, domain).n(5)"
   ]
  },
  {
   "cell_type": "code",
   "execution_count": 20,
   "metadata": {},
   "outputs": [
    {
     "data": {
      "text/latex": [
       "$\\displaystyle \\left[0, 1.5297\\right)$"
      ],
      "text/plain": [
       "Interval.Ropen(0, 1.5297)"
      ]
     },
     "execution_count": 20,
     "metadata": {},
     "output_type": "execute_result"
    }
   ],
   "source": [
    "solveset(d_expr6.subs({m: 1.8, f:0.5})>0, d, domain).n(5)"
   ]
  },
  {
   "cell_type": "markdown",
   "metadata": {},
   "source": [
    "Dla m =1.8 i f =0.5 pochodna funkcji jest dodatnia w przedziale od 0 do 1.53 i ujemna od 1.53 do nieskończoności. Zatem funkcja ma wartość największą w punkcie 1.53"
   ]
  },
  {
   "cell_type": "code",
   "execution_count": 21,
   "metadata": {},
   "outputs": [
    {
     "data": {
      "text/latex": [
       "$\\displaystyle \\frac{1000000}{1 + 2.05443321064389 e^{- 0.009 x}}$"
      ],
      "text/plain": [
       "1000000/(1 + 2.05443321064389*exp(-0.009*x))"
      ]
     },
     "execution_count": 21,
     "metadata": {},
     "output_type": "execute_result"
    }
   ],
   "source": [
    "x = symbols('x')\n",
    "expr8 = 1000000/(1+E**(-0.009*(x-80)))\n",
    "expr8\n",
    "\n"
   ]
  },
  {
   "cell_type": "code",
   "execution_count": 22,
   "metadata": {},
   "outputs": [
    {
     "data": {
      "text/latex": [
       "$\\displaystyle \\frac{4380.77030363975 e^{- 0.009 x}}{\\left(0.486752255959972 + e^{- 0.009 x}\\right)^{2}}$"
      ],
      "text/plain": [
       "4380.77030363975*exp(-0.009*x)/(0.486752255959972 + exp(-0.009*x))**2"
      ]
     },
     "execution_count": 22,
     "metadata": {},
     "output_type": "execute_result"
    }
   ],
   "source": [
    "d1_expr8 = diff(expr8)\n",
    "d1_expr8"
   ]
  },
  {
   "cell_type": "code",
   "execution_count": 23,
   "metadata": {},
   "outputs": [
    {
     "data": {
      "text/plain": [
       "[]"
      ]
     },
     "execution_count": 23,
     "metadata": {},
     "output_type": "execute_result"
    }
   ],
   "source": [
    "solve(d1_expr8)"
   ]
  },
  {
   "cell_type": "code",
   "execution_count": 24,
   "metadata": {},
   "outputs": [
    {
     "data": {
      "text/plain": [
       "[79.9999999999999,\n",
       " 79.9999999999999 - 2792.52680319093*I,\n",
       " 79.9999999999999 - 2094.3951023932*I,\n",
       " 79.9999999999999 - 1396.26340159546*I,\n",
       " 79.9999999999999 - 698.131700797732*I,\n",
       " 79.9999999999999 + 698.131700797732*I,\n",
       " 79.9999999999999 + 1396.26340159546*I,\n",
       " 79.9999999999999 + 2094.3951023932*I,\n",
       " 79.9999999999999 + 2792.52680319093*I]"
      ]
     },
     "execution_count": 24,
     "metadata": {},
     "output_type": "execute_result"
    }
   ],
   "source": [
    "d2_expr8 = diff(expr8, x, 2)\n",
    "solve(d2_expr8)"
   ]
  },
  {
   "cell_type": "code",
   "execution_count": 25,
   "metadata": {},
   "outputs": [
    {
     "data": {
      "image/png": "[encoded data removed]",
      "text/plain": [
       "<Figure size 640x480 with 1 Axes>"
      ]
     },
     "metadata": {},
     "output_type": "display_data"
    },
    {
     "data": {
      "text/plain": [
       "<sympy.plotting.plot.Plot at 0x1e835021d00>"
      ]
     },
     "execution_count": 25,
     "metadata": {},
     "output_type": "execute_result"
    }
   ],
   "source": [
    "plot(expr8, (x, 0, 1000))"
   ]
  },
  {
   "cell_type": "code",
   "execution_count": 28,
   "metadata": {},
   "outputs": [
    {
     "data": {
      "image/png": "[encoded data removed]",
      "text/plain": [
       "<Figure size 640x480 with 1 Axes>"
      ]
     },
     "metadata": {},
     "output_type": "display_data"
    },
    {
     "data": {
      "text/plain": [
       "<sympy.plotting.plot.Plot at 0x1e838640d40>"
      ]
     },
     "execution_count": 28,
     "metadata": {},
     "output_type": "execute_result"
    }
   ],
   "source": [
    "plot(d1_expr8, (x, 0, 1000))"
   ]
  },
  {
   "cell_type": "code",
   "execution_count": 27,
   "metadata": {},
   "outputs": [
    {
     "data": {
      "image/png": "[encoded data removed]",
      "text/plain": [
       "<Figure size 640x480 with 1 Axes>"
      ]
     },
     "metadata": {},
     "output_type": "display_data"
    },
    {
     "data": {
      "text/plain": [
       "<sympy.plotting.plot.Plot at 0x1e835ca8d40>"
      ]
     },
     "execution_count": 27,
     "metadata": {},
     "output_type": "execute_result"
    }
   ],
   "source": [
    "plot(d2_expr8, (x, 0, 1000))"
   ]
  }
 ],
 "metadata": {
  "kernelspec": {
   "display_name": ".venv",
   "language": "python",
   "name": "python3"
  },
  "language_info": {
   "codemirror_mode": {
    "name": "ipython",
    "version": 3
   },
   "file_extension": ".py",
   "mimetype": "text/x-python",
   "name": "python",
   "nbconvert_exporter": "python",
   "pygments_lexer": "ipython3",
   "version": "3.12.2"
  }
 },
 "nbformat": 4,
 "nbformat_minor": 2
}
