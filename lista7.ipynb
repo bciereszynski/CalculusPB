{
 "cells": [
  {
   "cell_type": "code",
   "execution_count": 3,
   "metadata": {},
   "outputs": [],
   "source": [
    "from sympy import *\n",
    "init_printing(use_unicode=True)\n"
   ]
  },
  {
   "cell_type": "code",
   "execution_count": 4,
   "metadata": {},
   "outputs": [],
   "source": [
    "y = symbols(\"y\", cls=Function)\n",
    "x = symbols(\"x\")\n"
   ]
  },
  {
   "cell_type": "markdown",
   "metadata": {},
   "source": [
    "ZAD1"
   ]
  },
  {
   "cell_type": "code",
   "execution_count": 5,
   "metadata": {},
   "outputs": [
    {
     "data": {
      "image/png": "[encoded data removed]",
      "text/latex": [
       "$\\displaystyle x - 2 y{\\left(x \\right)} - e^{x} + \\frac{d}{d x} y{\\left(x \\right)}$"
      ],
      "text/plain": [
       "              x   d       \n",
       "x - 2⋅y(x) - ℯ  + ──(y(x))\n",
       "                  dx      "
      ]
     },
     "metadata": {},
     "output_type": "display_data"
    },
    {
     "data": {
      "image/png": "[encoded data removed]",
      "text/latex": [
       "$\\displaystyle \\left\\{ y{\\left(0 \\right)} : 0.25\\right\\}$"
      ],
      "text/plain": [
       "{y(0): 0.25}"
      ]
     },
     "metadata": {},
     "output_type": "display_data"
    },
    {
     "data": {
      "image/png": "[encoded data removed]",
      "text/latex": [
       "$\\displaystyle y{\\left(x \\right)} = \\frac{x}{2} + 1.0 e^{2 x} - e^{x} + \\frac{1}{4}$"
      ],
      "text/plain": [
       "       x        2⋅x    x   1\n",
       "y(x) = ─ + 1.0⋅ℯ    - ℯ  + ─\n",
       "       2                   4"
      ]
     },
     "execution_count": 5,
     "metadata": {},
     "output_type": "execute_result"
    }
   ],
   "source": [
    "def RD(expr, war):\n",
    "    return dsolve(y(x).diff(x)-expr,y(x),ics=war)\n",
    "#1A\n",
    "expr1 = 2*y(x)+E**x-x\n",
    "x0 = 0\n",
    "y0 = 1/4\n",
    "display(y(x).diff(x)-expr1,{y(x0):y0})\n",
    "RD(expr1, {y(x0):y0})"
   ]
  },
  {
   "cell_type": "code",
   "execution_count": 6,
   "metadata": {},
   "outputs": [
    {
     "data": {
      "image/png": "[encoded data removed]",
      "text/latex": [
       "$\\displaystyle - x - \\left(x + 1\\right) y{\\left(x \\right)} + \\frac{d}{d x} y{\\left(x \\right)} + 1$"
      ],
      "text/plain": [
       "                    d           \n",
       "-x - (x + 1)⋅y(x) + ──(y(x)) + 1\n",
       "                    dx          "
      ]
     },
     "metadata": {},
     "output_type": "display_data"
    },
    {
     "data": {
      "image/png": "[encoded data removed]",
      "text/latex": [
       "$\\displaystyle \\left\\{ y{\\left(0 \\right)} : 0\\right\\}$"
      ],
      "text/plain": [
       "{y(0): 0}"
      ]
     },
     "metadata": {},
     "output_type": "display_data"
    },
    {
     "data": {
      "image/png": "[encoded data removed]",
      "text/latex": [
       "$\\displaystyle y{\\left(x \\right)} = \\left(1 + \\sqrt{2} \\sqrt{\\pi} e^{\\frac{1}{2}} \\operatorname{erf}{\\left(\\frac{\\sqrt{2}}{2} \\right)}\\right) e^{x \\left(\\frac{x}{2} + 1\\right)} - \\sqrt{2} \\sqrt{\\pi} e^{\\frac{x^{2}}{2} + x + \\frac{1}{2}} \\operatorname{erf}{\\left(\\frac{\\sqrt{2} \\left(x + 1\\right)}{2} \\right)} - 1$"
      ],
      "text/plain": [
       "                                                     2                        \n",
       "                                   ⎛x    ⎞          x        1                \n",
       "                                 x⋅⎜─ + 1⎟          ── + x + ─                \n",
       "       ⎛           1/2    ⎛√2⎞⎞    ⎝2    ⎠          2        2    ⎛√2⋅(x + 1)⎞\n",
       "y(x) = ⎜1 + √2⋅√π⋅ℯ   ⋅erf⎜──⎟⎟⋅ℯ          - √2⋅√π⋅ℯ          ⋅erf⎜──────────⎟\n",
       "       ⎝                  ⎝2 ⎠⎠                                   ⎝    2     ⎠\n",
       "\n",
       "    \n",
       "    \n",
       "    \n",
       "    \n",
       " - 1\n",
       "    "
      ]
     },
     "metadata": {},
     "output_type": "display_data"
    }
   ],
   "source": [
    "#1B\n",
    "expr2 = x-1+(x+1)*y(x)\n",
    "x0 = 0\n",
    "y0 = 0\n",
    "display(y(x).diff(x)-expr2,{y(x0):y0})\n",
    "RD(expr2, {y(x0):y0})\n",
    "sol=RD(expr2, {y(x0):y0})\n",
    "display(sol)"
   ]
  },
  {
   "cell_type": "markdown",
   "metadata": {},
   "source": [
    "Brak możliwości wyznaczenia dokładnego rozwiązania zagadnienia - do tabeli wpisano przybliżone wartości używając evalf()"
   ]
  },
  {
   "cell_type": "markdown",
   "metadata": {},
   "source": [
    "ZAD 2"
   ]
  },
  {
   "cell_type": "code",
   "execution_count": 7,
   "metadata": {},
   "outputs": [
    {
     "data": {
      "image/png": "[encoded data removed]",
      "text/latex": [
       "$\\displaystyle \\left(x - 2\\right)^{4} \\cdot \\left(\\frac{941 e^{2}}{24} + 312\\right) + \\left(x - 2\\right)^{3} \\cdot \\left(\\frac{89 e^{2}}{6} + 118\\right) + \\left(x - 2\\right)^{2} \\cdot \\left(\\frac{9 e^{2}}{2} + 36\\right) + \\left(x - 2\\right) \\left(e^{2} + 8\\right) + 1$"
      ],
      "text/plain": [
       "         ⎛     2      ⎞            ⎛    2      ⎞            ⎛   2     ⎞       \n",
       "       4 ⎜941⋅ℯ       ⎟          3 ⎜89⋅ℯ       ⎟          2 ⎜9⋅ℯ      ⎟       \n",
       "(x - 2) ⋅⎜────── + 312⎟ + (x - 2) ⋅⎜───── + 118⎟ + (x - 2) ⋅⎜──── + 36⎟ + (x -\n",
       "         ⎝  24        ⎠            ⎝  6        ⎠            ⎝ 2       ⎠       \n",
       "\n",
       "                \n",
       "    ⎛ 2    ⎞    \n",
       " 2)⋅⎝ℯ  + 8⎠ + 1\n",
       "                "
      ]
     },
     "execution_count": 7,
     "metadata": {},
     "output_type": "execute_result"
    }
   ],
   "source": [
    "def RA(expr, x0, y0, n):\n",
    "    #y0\n",
    "    tabY = [y0]\n",
    "    #y1..n\n",
    "    for i in range(1,n+1):\n",
    "        yi = expr.diff(x,i-1)\n",
    "        for j in range(i):\n",
    "             yi = yi.subs(y(x).diff(x,i-1-j), tabY[i-1-j])\n",
    "        yi = yi.subs(x,x0)\n",
    "        tabY.append(yi)\n",
    "    #składanie szeregu\n",
    "    taylor = 0\n",
    "    for i in range(n+1):\n",
    "        taylor+=tabY[i]/factorial(i)*(x-x0)**i\n",
    "    return taylor\n",
    "\n",
    "RA(2*x**2*y(x)+E**x,2,1,4)"
   ]
  },
  {
   "cell_type": "markdown",
   "metadata": {},
   "source": [
    "ZAD3"
   ]
  },
  {
   "cell_type": "code",
   "execution_count": 8,
   "metadata": {},
   "outputs": [
    {
     "data": {
      "image/png": "[encoded data removed]",
      "text/latex": [
       "$\\displaystyle \\left\\{ 0 : 1, \\  0.2 : 1, \\  0.4 : 1.08, \\  0.6 : 1.2144, \\  0.8 : 1.394368\\right\\}$"
      ],
      "text/plain": [
       "{0: 1, 0.2: 1, 0.4: 1.08, 0.6: 1.2144, 0.8: 1.394368}"
      ]
     },
     "execution_count": 8,
     "metadata": {},
     "output_type": "execute_result"
    }
   ],
   "source": [
    "def RN(expr, x0, y0, n, h):\n",
    "    #rekurencja\n",
    "    if n==0:\n",
    "        return {x0:y0}\n",
    "    before_data = RN(expr, x0, y0, n-1, h)\n",
    "\n",
    "    #wyznaczanie x - round bo float 0.2000000001\n",
    "    x_accuracy = min(len(str(h))+1, 6)\n",
    "    xn = round(x0+n*h,x_accuracy)\n",
    "    x_before = round(xn-h,x_accuracy)\n",
    "    y_before = before_data[x_before]\n",
    "\n",
    "    #obliczenie ze wzoru\n",
    "    before_data[xn] = y_before + h * expr.subs(y(x),y_before).subs(x,x_before)\n",
    "    return before_data\n",
    "\n",
    "RN(x+2+(x-2)*y(x),0,1,4,0.2)    "
   ]
  },
  {
   "cell_type": "code",
   "execution_count": 9,
   "metadata": {},
   "outputs": [],
   "source": [
    "import pandas as pd\n",
    "def get_data(expr, x0, y0, n):\n",
    "    war = {y(x0):y0}\n",
    "    rd = RD(expr, war)\n",
    "    ra = RA(expr, x0, y0, n)\n",
    "    rn = RN(expr, x0, y0, n, 0.2)\n",
    "    tab = {}\n",
    "    values = [0, 0.2, 0.4, 0.6, 0.8, 1]\n",
    "    for i in range(len(values)):\n",
    "        v = values[i]\n",
    "        column = []\n",
    "        column.append(rd.rhs.subs(x,v).evalf(8))\n",
    "        column.append(ra.subs(x,v).evalf(8))\n",
    "        column.append(format(rn[v], '.'+str(8)+'f'))\n",
    "        tab[\"x\"+str(i)+\" = \" + str(values[i])] = column\n",
    "\n",
    "    indexes = [\"RD\", \"RA\", \"RN\"]\n",
    "    tab_df = pd.DataFrame(tab,\n",
    "                        index=indexes)\n",
    "    return tab_df"
   ]
  },
  {
   "cell_type": "code",
   "execution_count": 10,
   "metadata": {},
   "outputs": [
    {
     "data": {
      "text/html": [
       "<div>\n",
       "<style scoped>\n",
       "    .dataframe tbody tr th:only-of-type {\n",
       "        vertical-align: middle;\n",
       "    }\n",
       "\n",
       "    .dataframe tbody tr th {\n",
       "        vertical-align: top;\n",
       "    }\n",
       "\n",
       "    .dataframe thead th {\n",
       "        text-align: right;\n",
       "    }\n",
       "</style>\n",
       "<table border=\"1\" class=\"dataframe\">\n",
       "  <thead>\n",
       "    <tr style=\"text-align: right;\">\n",
       "      <th>(a)</th>\n",
       "      <th>x0 = 0</th>\n",
       "      <th>x1 = 0.2</th>\n",
       "      <th>x2 = 0.4</th>\n",
       "      <th>x3 = 0.6</th>\n",
       "      <th>x4 = 0.8</th>\n",
       "      <th>x5 = 1</th>\n",
       "    </tr>\n",
       "  </thead>\n",
       "  <tbody>\n",
       "    <tr>\n",
       "      <th>RD</th>\n",
       "      <td>0.25000000</td>\n",
       "      <td>0.62042194</td>\n",
       "      <td>1.1837162</td>\n",
       "      <td>2.0479981</td>\n",
       "      <td>3.3774915</td>\n",
       "      <td>5.4207743</td>\n",
       "    </tr>\n",
       "    <tr>\n",
       "      <th>RA</th>\n",
       "      <td>0.25000000</td>\n",
       "      <td>0.62041600</td>\n",
       "      <td>1.1833120</td>\n",
       "      <td>2.0430880</td>\n",
       "      <td>3.3479840</td>\n",
       "      <td>5.3000000</td>\n",
       "    </tr>\n",
       "    <tr>\n",
       "      <th>RN</th>\n",
       "      <td>0.25000000</td>\n",
       "      <td>0.55000000</td>\n",
       "      <td>0.97428055</td>\n",
       "      <td>1.58235771</td>\n",
       "      <td>2.45972456</td>\n",
       "      <td>3.72872256</td>\n",
       "    </tr>\n",
       "  </tbody>\n",
       "</table>\n",
       "</div>"
      ],
      "text/plain": [
       "(a)      x0 = 0    x1 = 0.2    x2 = 0.4    x3 = 0.6    x4 = 0.8      x5 = 1\n",
       "RD   0.25000000  0.62042194   1.1837162   2.0479981   3.3774915   5.4207743\n",
       "RA   0.25000000  0.62041600   1.1833120   2.0430880   3.3479840   5.3000000\n",
       "RN   0.25000000  0.55000000  0.97428055  1.58235771  2.45972456  3.72872256"
      ]
     },
     "metadata": {},
     "output_type": "display_data"
    }
   ],
   "source": [
    "data = get_data(expr1, 0, 1/4, 5)\n",
    "data.columns.name = \"(a)\"\n",
    "display(data)"
   ]
  },
  {
   "cell_type": "code",
   "execution_count": 11,
   "metadata": {},
   "outputs": [
    {
     "data": {
      "text/html": [
       "<div>\n",
       "<style scoped>\n",
       "    .dataframe tbody tr th:only-of-type {\n",
       "        vertical-align: middle;\n",
       "    }\n",
       "\n",
       "    .dataframe tbody tr th {\n",
       "        vertical-align: top;\n",
       "    }\n",
       "\n",
       "    .dataframe thead th {\n",
       "        text-align: right;\n",
       "    }\n",
       "</style>\n",
       "<table border=\"1\" class=\"dataframe\">\n",
       "  <thead>\n",
       "    <tr style=\"text-align: right;\">\n",
       "      <th>(b)</th>\n",
       "      <th>x0 = 0</th>\n",
       "      <th>x1 = 0.2</th>\n",
       "      <th>x2 = 0.4</th>\n",
       "      <th>x3 = 0.6</th>\n",
       "      <th>x4 = 0.8</th>\n",
       "      <th>x5 = 1</th>\n",
       "    </tr>\n",
       "  </thead>\n",
       "  <tbody>\n",
       "    <tr>\n",
       "      <th>RD</th>\n",
       "      <td>0</td>\n",
       "      <td>-0.20282866</td>\n",
       "      <td>-0.42446408</td>\n",
       "      <td>-0.69114188</td>\n",
       "      <td>-1.0440676</td>\n",
       "      <td>-1.5526761</td>\n",
       "    </tr>\n",
       "    <tr>\n",
       "      <th>RA</th>\n",
       "      <td>0</td>\n",
       "      <td>-0.20282667</td>\n",
       "      <td>-0.42432000</td>\n",
       "      <td>-0.68928000</td>\n",
       "      <td>-1.0321067</td>\n",
       "      <td>-1.5000000</td>\n",
       "    </tr>\n",
       "    <tr>\n",
       "      <th>RN</th>\n",
       "      <td>0.00000000</td>\n",
       "      <td>-0.20000000</td>\n",
       "      <td>-0.40800000</td>\n",
       "      <td>-0.64224000</td>\n",
       "      <td>-0.92775680</td>\n",
       "      <td>-1.30174925</td>\n",
       "    </tr>\n",
       "  </tbody>\n",
       "</table>\n",
       "</div>"
      ],
      "text/plain": [
       "(b)      x0 = 0     x1 = 0.2     x2 = 0.4     x3 = 0.6     x4 = 0.8  \\\n",
       "RD            0  -0.20282866  -0.42446408  -0.69114188   -1.0440676   \n",
       "RA            0  -0.20282667  -0.42432000  -0.68928000   -1.0321067   \n",
       "RN   0.00000000  -0.20000000  -0.40800000  -0.64224000  -0.92775680   \n",
       "\n",
       "(b)       x5 = 1  \n",
       "RD    -1.5526761  \n",
       "RA    -1.5000000  \n",
       "RN   -1.30174925  "
      ]
     },
     "metadata": {},
     "output_type": "display_data"
    }
   ],
   "source": [
    "data = get_data(expr2, 0, 0, 5)\n",
    "data.columns.name = \"(b)\"\n",
    "display(data)"
   ]
  }
 ],
 "metadata": {
  "kernelspec": {
   "display_name": ".venv",
   "language": "python",
   "name": "python3"
  },
  "language_info": {
   "codemirror_mode": {
    "name": "ipython",
    "version": 3
   },
   "file_extension": ".py",
   "mimetype": "text/x-python",
   "name": "python",
   "nbconvert_exporter": "python",
   "pygments_lexer": "ipython3",
   "version": "3.12.2"
  }
 },
 "nbformat": 4,
 "nbformat_minor": 2
}
